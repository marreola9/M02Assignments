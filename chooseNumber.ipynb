{
 "cells": [
  {
   "cell_type": "code",
   "execution_count": null,
   "metadata": {},
   "outputs": [],
   "source": [
    "# chooseNumber.py (4.1)\n",
    "\n",
    "# assigning a random number as secret\n",
    "secret = 7  \n",
    "\n",
    " # Asking the user to enter a guess\n",
    "while True:\n",
    "    guess = int(input(\"Please enter a number between 1 and 10: \")) \n",
    "    \n",
    "    # Looking if the guess is within the valid range\n",
    "    if 1 <= guess <= 10:  \n",
    "        if guess < secret:\n",
    "            print(\"Too low\")\n",
    "        elif guess > secret:\n",
    "            print(\"Too high\")\n",
    "        else:\n",
    "            print(\"Congratulations, you are just right!\")\n",
    "            # End the loop when the user guesses the correct number\n",
    "            break  \n",
    "    else:\n",
    "        print(\"Invalid input. Please enter a number between 1 and 10.\")"
   ]
  },
  {
   "cell_type": "code",
   "execution_count": null,
   "metadata": {},
   "outputs": [],
   "source": [
    "# Small Green (4.2)\n",
    "\n",
    "# Ask the user for small and green values\n",
    "small_input = input(\"Is it small? (yes or no): \")\n",
    "green_input = input(\"Is it green? (yes or no): \")\n",
    "\n",
    "# Input to boolean values\n",
    "small = True if small_input == \"yes\" else False\n",
    "green = True if green_input == \"yes\" else False\n",
    "\n",
    "# Use if/else statements for a chosen fruit\n",
    "if small and green:\n",
    "    print(\"You have chosen a Pea.\")\n",
    "elif small and not green:\n",
    "    print(\"You have chosen a Cherry.\")\n",
    "elif not small and green:\n",
    "    print(\"You have chosen a Watermelon.\")\n",
    "elif not small and not green:\n",
    "    print(\"You have chosen a pumpink.\")"
   ]
  }
 ],
 "metadata": {
  "language_info": {
   "name": "python"
  },
  "orig_nbformat": 4
 },
 "nbformat": 4,
 "nbformat_minor": 2
}
